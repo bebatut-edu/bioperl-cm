{
 "cells": [
  {
   "cell_type": "markdown",
   "metadata": {},
   "source": [
    "# BioPerl\n",
    "\n",
    "## Manipulation de séquences\n",
    "\n",
    "### Création d'un objet"
   ]
  },
  {
   "cell_type": "code",
   "execution_count": 1,
   "metadata": {
    "collapsed": false
   },
   "outputs": [
    {
     "name": "stderr",
     "output_type": "stream",
     "text": [
      "Bio::Seq=HASH(0x7f8d1400a738)\n"
     ]
    }
   ],
   "source": [
    "use Bio::Seq;\n",
    "my $seqobj = Bio::Seq->new(\n",
    "    -seq => \"ACTGTGTGTCC\",\n",
    "    -id => \"Chlorella sorokiniana\",\n",
    "    -accession_number => \"CAA41635\"\n",
    ");"
   ]
  },
  {
   "cell_type": "code",
   "execution_count": 2,
   "metadata": {
    "collapsed": false
   },
   "outputs": [
    {
     "name": "stderr",
     "output_type": "stream",
     "text": [
      "$VAR1 = bless( {\n",
      "                 'primary_seq' => bless( {\n",
      "                                           'length' => 11,\n",
      "                                           'display_id' => 'Chlorella sorokiniana',\n",
      "                                           'accession_number' => 'CAA41635',\n",
      "                                           '_root_verbose' => 0,\n",
      "                                           'seq' => 'ACTGTGTGTCC',\n",
      "                                           '_nowarnonempty' => undef,\n",
      "                                           'alphabet' => 'dna'\n",
      "                                         }, 'Bio::PrimarySeq' ),\n",
      "                 '_root_verbose' => 0\n",
      "               }, 'Bio::Seq' );\n",
      "\n"
     ]
    }
   ],
   "source": [
    "use Data::Dumper;\n",
    "Dumper($seqobj);"
   ]
  },
  {
   "cell_type": "markdown",
   "metadata": {},
   "source": [
    "### Méthodes\n",
    "\n",
    "#### Méthodes (1)"
   ]
  },
  {
   "cell_type": "code",
   "execution_count": 3,
   "metadata": {
    "collapsed": false
   },
   "outputs": [
    {
     "name": "stderr",
     "output_type": "stream",
     "text": [
      "ACTGTGTGTCC\n"
     ]
    }
   ],
   "source": [
    "$seqobj->seq();"
   ]
  },
  {
   "cell_type": "code",
   "execution_count": 4,
   "metadata": {
    "collapsed": false
   },
   "outputs": [
    {
     "name": "stderr",
     "output_type": "stream",
     "text": [
      "TGTGTC\n"
     ]
    }
   ],
   "source": [
    "$seqobj->subseq(5,10);"
   ]
  },
  {
   "cell_type": "code",
   "execution_count": 7,
   "metadata": {
    "collapsed": false
   },
   "outputs": [
    {
     "name": "stderr",
     "output_type": "stream",
     "text": [
      "CAA41635\n"
     ]
    }
   ],
   "source": [
    "$seqobj->accession_number();"
   ]
  },
  {
   "cell_type": "code",
   "execution_count": 8,
   "metadata": {
    "collapsed": false
   },
   "outputs": [
    {
     "name": "stderr",
     "output_type": "stream",
     "text": [
      "dna\n"
     ]
    }
   ],
   "source": [
    "$seqobj->alphabet();"
   ]
  },
  {
   "cell_type": "code",
   "execution_count": 9,
   "metadata": {
    "collapsed": true
   },
   "outputs": [],
   "source": [
    "$seqobj->version();"
   ]
  },
  {
   "cell_type": "code",
   "execution_count": 11,
   "metadata": {
    "collapsed": false
   },
   "outputs": [
    {
     "name": "stderr",
     "output_type": "stream",
     "text": [
      "11\n"
     ]
    }
   ],
   "source": [
    "$seqobj->length();"
   ]
  },
  {
   "cell_type": "code",
   "execution_count": 12,
   "metadata": {
    "collapsed": true
   },
   "outputs": [],
   "source": [
    "$seqobj->desc();"
   ]
  },
  {
   "cell_type": "code",
   "execution_count": 13,
   "metadata": {
    "collapsed": false
   },
   "outputs": [
    {
     "name": "stderr",
     "output_type": "stream",
     "text": [
      "Bio::PrimarySeq=HASH(0x7f8d10eb9e20)\n"
     ]
    }
   ],
   "source": [
    "$seqobj->primary_id();"
   ]
  },
  {
   "cell_type": "code",
   "execution_count": 14,
   "metadata": {
    "collapsed": false
   },
   "outputs": [
    {
     "name": "stderr",
     "output_type": "stream",
     "text": [
      "Chlorella sorokiniana\n"
     ]
    }
   ],
   "source": [
    "$seqobj->display_id();"
   ]
  },
  {
   "cell_type": "markdown",
   "metadata": {},
   "source": [
    "#### Méthodes (2)"
   ]
  },
  {
   "cell_type": "code",
   "execution_count": 20,
   "metadata": {
    "collapsed": false
   },
   "outputs": [
    {
     "name": "stderr",
     "output_type": "stream",
     "text": [
      "Bio::Seq=HASH(0x7f8d1400ab88)\n"
     ]
    }
   ],
   "source": [
    "$trunc_seq_obj = $seqobj->trunc(5,10);"
   ]
  },
  {
   "cell_type": "code",
   "execution_count": 26,
   "metadata": {
    "collapsed": false
   },
   "outputs": [
    {
     "data": {
      "text/plain": [
       "ACTGTGTGTCC\n",
       "TGTGTC\n"
      ]
     },
     "execution_count": 26,
     "metadata": {},
     "output_type": "execute_result"
    },
    {
     "name": "stderr",
     "output_type": "stream",
     "text": [
      "1\n"
     ]
    }
   ],
   "source": [
    "print $seqobj->seq(),\"\\n\";\n",
    "print $trunc_seq_obj->seq(),\"\\n\";"
   ]
  },
  {
   "cell_type": "code",
   "execution_count": 22,
   "metadata": {
    "collapsed": false
   },
   "outputs": [
    {
     "name": "stderr",
     "output_type": "stream",
     "text": [
      "Bio::Seq=HASH(0x7f8d12654130)\n"
     ]
    }
   ],
   "source": [
    "$revcom_seq_obj=$seqobj->revcom;"
   ]
  },
  {
   "cell_type": "code",
   "execution_count": 27,
   "metadata": {
    "collapsed": false
   },
   "outputs": [
    {
     "data": {
      "text/plain": [
       "ACTGTGTGTCC\n",
       "GGACACACAGT\n"
      ]
     },
     "execution_count": 27,
     "metadata": {},
     "output_type": "execute_result"
    },
    {
     "name": "stderr",
     "output_type": "stream",
     "text": [
      "1\n"
     ]
    }
   ],
   "source": [
    "print $seqobj->seq(),\"\\n\";\n",
    "print $revcom_seq_obj->seq(),\"\\n\";"
   ]
  },
  {
   "cell_type": "code",
   "execution_count": 28,
   "metadata": {
    "collapsed": false
   },
   "outputs": [
    {
     "name": "stderr",
     "output_type": "stream",
     "text": [
      "Bio::Seq=HASH(0x7f8d1400ab28)\n"
     ]
    }
   ],
   "source": [
    "$translated_seq_obj=$seqobj->translate;"
   ]
  },
  {
   "cell_type": "code",
   "execution_count": 29,
   "metadata": {
    "collapsed": false
   },
   "outputs": [
    {
     "data": {
      "text/plain": [
       "ACTGTGTGTCC\n",
       "TVC\n"
      ]
     },
     "execution_count": 29,
     "metadata": {},
     "output_type": "execute_result"
    },
    {
     "name": "stderr",
     "output_type": "stream",
     "text": [
      "1\n"
     ]
    }
   ],
   "source": [
    "print $seqobj->seq(),\"\\n\";\n",
    "print $translated_seq_obj->seq(),\"\\n\";"
   ]
  },
  {
   "cell_type": "markdown",
   "metadata": {},
   "source": [
    "#### Méthodes (3)"
   ]
  },
  {
   "cell_type": "code",
   "execution_count": 34,
   "metadata": {
    "collapsed": false
   },
   "outputs": [
    {
     "data": {
      "text/plain": [
       "1\n"
      ]
     },
     "execution_count": 34,
     "metadata": {},
     "output_type": "execute_result"
    },
    {
     "name": "stderr",
     "output_type": "stream",
     "text": [
      "1\n"
     ]
    }
   ],
   "source": [
    "$string = \"ATTGCTTT\";\n",
    "print $seqobj->validate_seq($string),\"\\n\";"
   ]
  },
  {
   "cell_type": "code",
   "execution_count": 35,
   "metadata": {
    "collapsed": false
   },
   "outputs": [
    {
     "data": {
      "text/plain": [
       "0\n"
      ]
     },
     "execution_count": 35,
     "metadata": {},
     "output_type": "execute_result"
    },
    {
     "name": "stderr",
     "output_type": "stream",
     "text": [
      "1\n"
     ]
    }
   ],
   "source": [
    "$string = \"TTT53FFF\";\n",
    "print $seqobj->validate_seq($string),\"\\n\";"
   ]
  },
  {
   "cell_type": "markdown",
   "metadata": {},
   "source": [
    "#### Manipulation de séquences"
   ]
  },
  {
   "cell_type": "code",
   "execution_count": 25,
   "metadata": {
    "collapsed": false
   },
   "outputs": [
    {
     "data": {
      "text/plain": [
       "ACTGTGTGTCC\n"
      ]
     },
     "execution_count": 25,
     "metadata": {},
     "output_type": "execute_result"
    },
    {
     "name": "stderr",
     "output_type": "stream",
     "text": [
      "1\n"
     ]
    }
   ],
   "source": [
    "$seq = $seqobj->seq();\n",
    "print \"$seq\\n\";"
   ]
  },
  {
   "cell_type": "code",
   "execution_count": 26,
   "metadata": {
    "collapsed": false
   },
   "outputs": [
    {
     "data": {
      "text/plain": [
       "11\n"
      ]
     },
     "execution_count": 26,
     "metadata": {},
     "output_type": "execute_result"
    },
    {
     "name": "stderr",
     "output_type": "stream",
     "text": [
      "1\n"
     ]
    }
   ],
   "source": [
    "$length = $seqobj->length();\n",
    "print \"$length\\n\";"
   ]
  },
  {
   "cell_type": "code",
   "execution_count": 27,
   "metadata": {
    "collapsed": false
   },
   "outputs": [
    {
     "data": {
      "text/plain": [
       "TGTGTCC\n"
      ]
     },
     "execution_count": 27,
     "metadata": {},
     "output_type": "execute_result"
    },
    {
     "name": "stderr",
     "output_type": "stream",
     "text": [
      "1\n"
     ]
    }
   ],
   "source": [
    "$subseq = $seqobj->subseq(int($length/2), $length);\n",
    "print \"$subseq\\n\";"
   ]
  },
  {
   "cell_type": "code",
   "execution_count": 28,
   "metadata": {
    "collapsed": false
   },
   "outputs": [
    {
     "data": {
      "text/plain": [
       "ACTGTGTGTCCTGTGTCC 18\n"
      ]
     },
     "execution_count": 28,
     "metadata": {},
     "output_type": "execute_result"
    },
    {
     "name": "stderr",
     "output_type": "stream",
     "text": [
      "1\n"
     ]
    }
   ],
   "source": [
    "$new_seq = $seq.$subseq;\n",
    "if($seqobj->validate_seq($new_seq)){\n",
    "    $seqobj->seq($new_seq);\n",
    "}\n",
    "print $seqobj->seq(),\" \", $seqobj->length(), \"\\n\""
   ]
  },
  {
   "cell_type": "markdown",
   "metadata": {},
   "source": [
    "#### Traduction "
   ]
  },
  {
   "cell_type": "code",
   "execution_count": 41,
   "metadata": {
    "collapsed": false
   },
   "outputs": [
    {
     "data": {
      "text/plain": [
       "TVCPVS\n"
      ]
     },
     "execution_count": 41,
     "metadata": {},
     "output_type": "execute_result"
    },
    {
     "name": "stderr",
     "output_type": "stream",
     "text": [
      "1\n"
     ]
    }
   ],
   "source": [
    "$translated_obj = $seq;\n",
    "if( $seqobj->alphabet() == 'dna'){\n",
    "    $translated_obj = $seqobj->translate();\n",
    "}\n",
    "print $translated_obj->seq(),\"\\n\";"
   ]
  },
  {
   "cell_type": "markdown",
   "metadata": {},
   "source": [
    "### Récupération de statistiques sur une séquence\n",
    "\n",
    "#### Création"
   ]
  },
  {
   "cell_type": "code",
   "execution_count": 36,
   "metadata": {
    "collapsed": false
   },
   "outputs": [
    {
     "name": "stderr",
     "output_type": "stream",
     "text": [
      "Bio::Tools::SeqStats=HASH(0x7f8d15079050)\n"
     ]
    }
   ],
   "source": [
    "use Bio::Tools::SeqStats;\n",
    "$seq_stats  =  Bio::Tools::SeqStats->new(-seq => $seqobj);"
   ]
  },
  {
   "cell_type": "markdown",
   "metadata": {},
   "source": [
    "#### Méthodes"
   ]
  },
  {
   "cell_type": "code",
   "execution_count": 39,
   "metadata": {
    "collapsed": false
   },
   "outputs": [
    {
     "name": "stderr",
     "output_type": "stream",
     "text": [
      "$VAR1 = {\n",
      "          'A' => 1,\n",
      "          'T' => 4,\n",
      "          'C' => 3,\n",
      "          'G' => 3\n",
      "        };\n",
      "\n"
     ]
    }
   ],
   "source": [
    "$hash_ref = $seq_stats->count_monomers();\n",
    "Dumper($hash_ref);"
   ]
  },
  {
   "cell_type": "code",
   "execution_count": 40,
   "metadata": {
    "collapsed": false
   },
   "outputs": [
    {
     "name": "stderr",
     "output_type": "stream",
     "text": [
      "$VAR1 = {\n",
      "          'ACT' => 1,\n",
      "          'GTG' => 1,\n",
      "          'TGT' => 1\n",
      "        };\n",
      "\n"
     ]
    }
   ],
   "source": [
    "$hash_ref = Bio::Tools::SeqStats->count_codons($seqobj);\n",
    "Dumper($hash_ref);"
   ]
  },
  {
   "cell_type": "code",
   "execution_count": 42,
   "metadata": {
    "collapsed": false
   },
   "outputs": [
    {
     "name": "stderr",
     "output_type": "stream",
     "text": [
      "$VAR1 = [\n",
      "          '3403.5',\n",
      "          '3403.5'\n",
      "        ];\n",
      "\n"
     ]
    }
   ],
   "source": [
    "$weight = Bio::Tools::SeqStats->get_mol_wt($seqobj);\n",
    "Dumper($weight);"
   ]
  },
  {
   "cell_type": "code",
   "execution_count": 43,
   "metadata": {
    "collapsed": false
   },
   "outputs": [
    {
     "ename": "Error",
     "evalue": "\n------------- EXCEPTION -------------\nMSG: hydropathicity only meaningful for protein, not for dna sequences.\nSTACK Bio::Tools::SeqStats::hydropathicity /Users/bbatut/perl5/perlbrew/perls/perl-5.16.0/lib/site_perl/5.16.0/Bio/Tools/SeqStats.pm:745\nSTACK Eval::Closure::Sandbox_627::__ANON__ reply input:1\nSTACK Reply::Plugin::Defaults::execute /Users/bbatut/perl5/perlbrew/perls/perl-5.16.0/lib/site_perl/5.16.0/Reply/Plugin/Defaults.pm:72\nSTACK Reply::_wrapped_plugin /Users/bbatut/perl5/perlbrew/perls/perl-5.16.0/lib/site_perl/5.16.0/Reply.pm:219\nSTACK Reply::__ANON__ /Users/bbatut/perl5/perlbrew/perls/perl-5.16.0/lib/site_perl/5.16.0/Reply.pm:217\nSTACK Reply::Plugin::IPerl::__ANON__ /Users/bbatut/perl5/perlbrew/perls/perl-5.16.0/lib/site_perl/5.16.0/Reply/Plugin/IPerl.pm:28\nSTACK (eval) /Users/bbatut/perl5/perlbrew/perls/perl-5.16.0/lib/site_perl/5.16.0/Capture/Tiny.pm:369\nSTACK Capture::Tiny::_capture_tee /Users/bbatut/perl5/perlbrew/perls/perl-5.16.0/lib/site_perl/5.16.0/Capture/Tiny.pm:369\nSTACK Reply::Plugin::IPerl::execute /Users/bbatut/perl5/perlbrew/perls/perl-5.16.0/lib/site_perl/5.16.0/Reply/Plugin/IPerl.pm:29\nSTACK Reply::_wrapped_plugin /Users/bbatut/perl5/perlbrew/perls/perl-5.16.0/lib/site_perl/5.16.0/Reply.pm:219\nSTACK Reply::_eval /Users/bbatut/perl5/perlbrew/perls/perl-5.16.0/lib/site_perl/5.16.0/Reply.pm:176\nSTACK Reply::try {...}  /Users/bbatut/perl5/perlbrew/perls/perl-5.16.0/lib/site_perl/5.16.0/Reply.pm:68\nSTACK (eval) /Users/bbatut/perl5/perlbrew/perls/perl-5.16.0/lib/site_perl/5.16.0/Try/Tiny.pm:81\nSTACK Try::Tiny::try /Users/bbatut/perl5/perlbrew/perls/perl-5.16.0/lib/site_perl/5.16.0/Try/Tiny.pm:72\nSTACK Reply::step /Users/bbatut/perl5/perlbrew/perls/perl-5.16.0/lib/site_perl/5.16.0/Reply.pm:73\nSTACK Devel::IPerl::Kernel::Backend::Reply::__ANON__ /Users/bbatut/perl5/perlbrew/perls/perl-5.16.0/lib/site_perl/5.16.0/Devel/IPerl/Kernel/Backend/Reply.pm:48\nSTACK (eval) /Users/bbatut/perl5/perlbrew/perls/perl-5.16.0/lib/site_perl/5.16.0/Capture/Tiny.pm:369\nSTACK Capture::Tiny::_capture_tee /Users/bbatut/perl5/perlbrew/perls/perl-5.16.0/lib/site_perl/5.16.0/Capture/Tiny.pm:369\nSTACK Devel::IPerl::Kernel::Backend::Reply::run_line /Users/bbatut/perl5/perlbrew/perls/perl-5.16.0/lib/site_perl/5.16.0/Devel/IPerl/Kernel/Backend/Reply.pm:49\nSTACK Devel::IPerl::Kernel::Callback::REPL::execute /Users/bbatut/perl5/perlbrew/perls/perl-5.16.0/lib/site_perl/5.16.0/Devel/IPerl/Kernel/Callback/REPL.pm:42\nSTACK Devel::IPerl::Kernel::Callback::REPL::execute (eval 55):6\nSTACK Devel::IPerl::Kernel::Callback::REPL::msg_execute_request /Users/bbatut/perl5/perlbrew/perls/perl-5.16.0/lib/site_perl/5.16.0/Devel/IPerl/Kernel/Callback/REPL.pm:155\nSTACK Devel::IPerl::Kernel::route_message /Users/bbatut/perl5/perlbrew/perls/perl-5.16.0/lib/site_perl/5.16.0/Devel/IPerl/Kernel.pm:223\nSTACK Devel::IPerl::Kernel::__ANON__ /Users/bbatut/perl5/perlbrew/perls/perl-5.16.0/lib/site_perl/5.16.0/Devel/IPerl/Kernel.pm:195\nSTACK IO::Async::Loop::Poll::post_poll /Users/bbatut/perl5/perlbrew/perls/perl-5.16.0/lib/site_perl/5.16.0/IO/Async/Loop/Poll.pm:172\nSTACK IO::Async::Loop::Poll::loop_once /Users/bbatut/perl5/perlbrew/perls/perl-5.16.0/lib/site_perl/5.16.0/IO/Async/Loop/Poll.pm:270\nSTACK IO::Async::Loop::run /Users/bbatut/perl5/perlbrew/perls/perl-5.16.0/lib/site_perl/5.16.0/IO/Async/Loop.pm:524\nSTACK IO::Async::Loop::loop_forever /Users/bbatut/perl5/perlbrew/perls/perl-5.16.0/lib/site_perl/5.16.0/IO/Async/Loop.pm:561\nSTACK Devel::IPerl::Kernel::run /Users/bbatut/perl5/perlbrew/perls/perl-5.16.0/lib/site_perl/5.16.0/Devel/IPerl/Kernel.pm:203\nSTACK Devel::IPerl::main /Users/bbatut/perl5/perlbrew/perls/perl-5.16.0/lib/site_perl/5.16.0/Devel/IPerl.pm:14\nSTACK toplevel -e:1\n-------------------------------------\n\n",
     "output_type": "error",
     "traceback": [
      "\n------------- EXCEPTION -------------\nMSG: hydropathicity only meaningful for protein, not for dna sequences.\nSTACK Bio::Tools::SeqStats::hydropathicity /Users/bbatut/perl5/perlbrew/perls/perl-5.16.0/lib/site_perl/5.16.0/Bio/Tools/SeqStats.pm:745\nSTACK Eval::Closure::Sandbox_627::__ANON__ reply input:1\nSTACK Reply::Plugin::Defaults::execute /Users/bbatut/perl5/perlbrew/perls/perl-5.16.0/lib/site_perl/5.16.0/Reply/Plugin/Defaults.pm:72\nSTACK Reply::_wrapped_plugin /Users/bbatut/perl5/perlbrew/perls/perl-5.16.0/lib/site_perl/5.16.0/Reply.pm:219\nSTACK Reply::__ANON__ /Users/bbatut/perl5/perlbrew/perls/perl-5.16.0/lib/site_perl/5.16.0/Reply.pm:217\nSTACK Reply::Plugin::IPerl::__ANON__ /Users/bbatut/perl5/perlbrew/perls/perl-5.16.0/lib/site_perl/5.16.0/Reply/Plugin/IPerl.pm:28\nSTACK (eval) /Users/bbatut/perl5/perlbrew/perls/perl-5.16.0/lib/site_perl/5.16.0/Capture/Tiny.pm:369\nSTACK Capture::Tiny::_capture_tee /Users/bbatut/perl5/perlbrew/perls/perl-5.16.0/lib/site_perl/5.16.0/Capture/Tiny.pm:369\nSTACK Reply::Plugin::IPerl::execute /Users/bbatut/perl5/perlbrew/perls/perl-5.16.0/lib/site_perl/5.16.0/Reply/Plugin/IPerl.pm:29\nSTACK Reply::_wrapped_plugin /Users/bbatut/perl5/perlbrew/perls/perl-5.16.0/lib/site_perl/5.16.0/Reply.pm:219\nSTACK Reply::_eval /Users/bbatut/perl5/perlbrew/perls/perl-5.16.0/lib/site_perl/5.16.0/Reply.pm:176\nSTACK Reply::try {...}  /Users/bbatut/perl5/perlbrew/perls/perl-5.16.0/lib/site_perl/5.16.0/Reply.pm:68\nSTACK (eval) /Users/bbatut/perl5/perlbrew/perls/perl-5.16.0/lib/site_perl/5.16.0/Try/Tiny.pm:81\nSTACK Try::Tiny::try /Users/bbatut/perl5/perlbrew/perls/perl-5.16.0/lib/site_perl/5.16.0/Try/Tiny.pm:72\nSTACK Reply::step /Users/bbatut/perl5/perlbrew/perls/perl-5.16.0/lib/site_perl/5.16.0/Reply.pm:73\nSTACK Devel::IPerl::Kernel::Backend::Reply::__ANON__ /Users/bbatut/perl5/perlbrew/perls/perl-5.16.0/lib/site_perl/5.16.0/Devel/IPerl/Kernel/Backend/Reply.pm:48\nSTACK (eval) /Users/bbatut/perl5/perlbrew/perls/perl-5.16.0/lib/site_perl/5.16.0/Capture/Tiny.pm:369\nSTACK Capture::Tiny::_capture_tee /Users/bbatut/perl5/perlbrew/perls/perl-5.16.0/lib/site_perl/5.16.0/Capture/Tiny.pm:369\nSTACK Devel::IPerl::Kernel::Backend::Reply::run_line /Users/bbatut/perl5/perlbrew/perls/perl-5.16.0/lib/site_perl/5.16.0/Devel/IPerl/Kernel/Backend/Reply.pm:49\nSTACK Devel::IPerl::Kernel::Callback::REPL::execute /Users/bbatut/perl5/perlbrew/perls/perl-5.16.0/lib/site_perl/5.16.0/Devel/IPerl/Kernel/Callback/REPL.pm:42\nSTACK Devel::IPerl::Kernel::Callback::REPL::execute (eval 55):6\nSTACK Devel::IPerl::Kernel::Callback::REPL::msg_execute_request /Users/bbatut/perl5/perlbrew/perls/perl-5.16.0/lib/site_perl/5.16.0/Devel/IPerl/Kernel/Callback/REPL.pm:155\nSTACK Devel::IPerl::Kernel::route_message /Users/bbatut/perl5/perlbrew/perls/perl-5.16.0/lib/site_perl/5.16.0/Devel/IPerl/Kernel.pm:223\nSTACK Devel::IPerl::Kernel::__ANON__ /Users/bbatut/perl5/perlbrew/perls/perl-5.16.0/lib/site_perl/5.16.0/Devel/IPerl/Kernel.pm:195\nSTACK IO::Async::Loop::Poll::post_poll /Users/bbatut/perl5/perlbrew/perls/perl-5.16.0/lib/site_perl/5.16.0/IO/Async/Loop/Poll.pm:172\nSTACK IO::Async::Loop::Poll::loop_once /Users/bbatut/perl5/perlbrew/perls/perl-5.16.0/lib/site_perl/5.16.0/IO/Async/Loop/Poll.pm:270\nSTACK IO::Async::Loop::run /Users/bbatut/perl5/perlbrew/perls/perl-5.16.0/lib/site_perl/5.16.0/IO/Async/Loop.pm:524\nSTACK IO::Async::Loop::loop_forever /Users/bbatut/perl5/perlbrew/perls/perl-5.16.0/lib/site_perl/5.16.0/IO/Async/Loop.pm:561\nSTACK Devel::IPerl::Kernel::run /Users/bbatut/perl5/perlbrew/perls/perl-5.16.0/lib/site_perl/5.16.0/Devel/IPerl/Kernel.pm:203\nSTACK Devel::IPerl::main /Users/bbatut/perl5/perlbrew/perls/perl-5.16.0/lib/site_perl/5.16.0/Devel/IPerl.pm:14\nSTACK toplevel -e:1\n-------------------------------------\n\n"
     ]
    }
   ],
   "source": [
    "Bio::Tools::SeqStats->hydropathicity($seqobj);"
   ]
  },
  {
   "cell_type": "markdown",
   "metadata": {
    "collapsed": true
   },
   "source": [
    "## Manipulation de fichier de séquences"
   ]
  },
  {
   "cell_type": "code",
   "execution_count": 46,
   "metadata": {
    "collapsed": false
   },
   "outputs": [
    {
     "name": "stderr",
     "output_type": "stream",
     "text": [
      "Bio::SeqIO::fasta=HASH(0x7f8d1402ffd8)\n"
     ]
    }
   ],
   "source": [
    "use Bio::SeqIO;\n",
    "my $seqio_obj = Bio::SeqIO->new(-file => '>sequence.fasta', \n",
    "    -format => 'fasta' );"
   ]
  },
  {
   "cell_type": "code",
   "execution_count": 47,
   "metadata": {
    "collapsed": true
   },
   "outputs": [],
   "source": [
    "Dumper($seqio_obj );"
   ]
  },
  {
   "cell_type": "markdown",
   "metadata": {},
   "source": [
    "### Ecrire des séquences dans un fichier"
   ]
  },
  {
   "cell_type": "code",
   "execution_count": 2,
   "metadata": {
    "collapsed": false
   },
   "outputs": [
    {
     "name": "stderr",
     "output_type": "stream",
     "text": [
      "1\n"
     ]
    },
    {
     "ename": "Warning",
     "evalue": "\n--------------------- WARNING ---------------------\nMSG: No whitespace allowed in FASTA ID [Chlorella sorokiniana]\n---------------------------------------------------\n\n\n--------------------- WARNING ---------------------\nMSG: No whitespace allowed in FASTA ID [Chlorella sorokiniana]\n---------------------------------------------------\n\n\n--------------------- WARNING ---------------------\nMSG: No whitespace allowed in FASTA ID [Modified Chlorella sorokiniana]\n---------------------------------------------------\n\n\n--------------------- WARNING ---------------------\nMSG: No whitespace allowed in FASTA ID [Modified Chlorella sorokiniana]\n---------------------------------------------------\n",
     "output_type": "error",
     "traceback": [
      "\n--------------------- WARNING ---------------------\nMSG: No whitespace allowed in FASTA ID [Chlorella sorokiniana]\n---------------------------------------------------\n\n\n--------------------- WARNING ---------------------\nMSG: No whitespace allowed in FASTA ID [Chlorella sorokiniana]\n---------------------------------------------------\n\n\n--------------------- WARNING ---------------------\nMSG: No whitespace allowed in FASTA ID [Modified Chlorella sorokiniana]\n---------------------------------------------------\n\n\n--------------------- WARNING ---------------------\nMSG: No whitespace allowed in FASTA ID [Modified Chlorella sorokiniana]\n---------------------------------------------------\n"
     ]
    }
   ],
   "source": [
    "use Bio::SeqIO;\n",
    "use Bio::Seq;\n",
    "\n",
    "my $seqio_obj = Bio::SeqIO->new(-file => '>sequence.fasta', \n",
    "    -format => 'fasta' );\n",
    "\n",
    "my $seqobj = Bio::Seq->new(\n",
    "    -seq => \"ACTGTGTGTCC\",\n",
    "    -id => \"Chlorella sorokiniana\"\n",
    ");\n",
    "\n",
    "$seqio_obj->write_seq($seqobj);\n",
    "\n",
    "my $seqobj = Bio::Seq->new(\n",
    "    -seq => \"ACTGTGTGTCCTGTGTCC\",\n",
    "    -id => \"Modified Chlorella sorokiniana\"\n",
    ");\n",
    "\n",
    "$seqio_obj->write_seq($seqobj);"
   ]
  },
  {
   "cell_type": "markdown",
   "metadata": {},
   "source": [
    "### Lecture de séquences d'un fichier"
   ]
  },
  {
   "cell_type": "code",
   "execution_count": 3,
   "metadata": {
    "collapsed": false
   },
   "outputs": [
    {
     "data": {
      "text/plain": [
       "ACTGTGTGTCC\n",
       "ACTGTGTGTCCTGTGTCC\n"
      ]
     },
     "execution_count": 3,
     "metadata": {},
     "output_type": "execute_result"
    }
   ],
   "source": [
    "use Bio::SeqIO;\n",
    "\n",
    "$seqio_obj = Bio::SeqIO->new(-file => \"sequence.fasta\", \n",
    "    -format => \"fasta\" );\n",
    "    \n",
    "while ($seq_obj = $seqio_obj->next_seq){\n",
    "    print $seq_obj->seq,\"\\n\";\n",
    "}"
   ]
  },
  {
   "cell_type": "markdown",
   "metadata": {},
   "source": [
    "## Accès aux bases de données\n"
   ]
  },
  {
   "cell_type": "code",
   "execution_count": 44,
   "metadata": {
    "collapsed": false
   },
   "outputs": [
    {
     "name": "stderr",
     "output_type": "stream",
     "text": [
      "Bio::DB::GenBank=HASH(0x7f8d15079998)\n"
     ]
    }
   ],
   "source": [
    "use Bio::DB::GenBank;\n",
    "$db_obj = Bio::DB::GenBank->new;"
   ]
  },
  {
   "cell_type": "code",
   "execution_count": 45,
   "metadata": {
    "collapsed": true
   },
   "outputs": [],
   "source": [
    "Dumper($db_obj);"
   ]
  },
  {
   "cell_type": "markdown",
   "metadata": {},
   "source": [
    "### Récupération d'une séquence dans une base de données"
   ]
  },
  {
   "cell_type": "code",
   "execution_count": 6,
   "metadata": {
    "collapsed": false
   },
   "outputs": [
    {
     "data": {
      "text/plain": [
       "A00002\n"
      ]
     },
     "execution_count": 6,
     "metadata": {},
     "output_type": "execute_result"
    },
    {
     "name": "stderr",
     "output_type": "stream",
     "text": [
      "1\n"
     ]
    }
   ],
   "source": [
    "use Bio::DB::GenBank;\n",
    "use Bio::Seq;\n",
    "\n",
    "$db_obj = Bio::DB::GenBank->new;\n",
    " \n",
    "$seq_obj = $db_obj->get_Seq_by_id(2);\n",
    "\n",
    "print $seq_obj->display_id(),\"\\n\";"
   ]
  },
  {
   "cell_type": "markdown",
   "metadata": {},
   "source": [
    "### Récupération de plusieurs séquences"
   ]
  },
  {
   "cell_type": "code",
   "execution_count": 8,
   "metadata": {
    "collapsed": false
   },
   "outputs": [
    {
     "data": {
      "text/plain": [
       "NM_001203615\t2099\n",
       "NM_001125591\t549\n",
       "NM_128760\t2775\n",
       "NM_120360\t1655\n",
       "NM_001036386\t2734\n",
       "NM_112969\t2212\n",
       "NM_126949\t704\n",
       "ATHTOP2A\t410\n",
       "XM_002881164\t2698\n",
       "AF323679\t1373\n",
       "DQ446392\t1152\n",
       "AY142667\t2140\n",
       "AY133820\t2113\n",
       "AY090993\t1830\n",
       "AY080864\t928\n",
       "AY039947\t2493\n",
       "AY034972\t2586\n",
       "U12285\t591\n",
       "U12284\t590\n",
       "AK221851\t1078\n",
       "AK221766\t1452\n",
       "AK221174\t2785\n",
       "AJ297843\t2212\n",
       "AJ297842\t1655\n",
       "AJ251990\t1655\n",
       "AJ251989\t1640\n",
       "AK175923\t2744\n",
       "AK175789\t2744\n"
      ]
     },
     "execution_count": 8,
     "metadata": {},
     "output_type": "execute_result"
    }
   ],
   "source": [
    "use Bio::DB::GenBank;\n",
    "use Bio::DB::Query::GenBank;\n",
    " \n",
    "$query = \"Arabidopsis[ORGN] AND topoisomerase[TITL] and 0:3000[SLEN]\";\n",
    "$query_obj = Bio::DB::Query::GenBank->new(-db    => 'nucleotide',  -query => $query );\n",
    " \n",
    "$gb_obj = Bio::DB::GenBank->new;\n",
    " \n",
    "$stream_obj = $gb_obj->get_Stream_by_query($query_obj);\n",
    " \n",
    "while ($seq_obj = $stream_obj->next_seq) {     \n",
    "    print $seq_obj->display_id, \"\\t\", $seq_obj->length, \"\\n\";\n",
    "}"
   ]
  },
  {
   "cell_type": "markdown",
   "metadata": {},
   "source": [
    "## Parser des rapports de recherche\n",
    "### Parcours d'un fichier issu d'une requête Blast"
   ]
  },
  {
   "cell_type": "code",
   "execution_count": 48,
   "metadata": {
    "collapsed": false
   },
   "outputs": [
    {
     "data": {
      "text/plain": [
       "Query=gi|20521485|dbj|AP004641.2 Hit=gb|443893|124775 Length=52 Percent_id=88.4615384615385\n"
      ]
     },
     "execution_count": 48,
     "metadata": {},
     "output_type": "execute_result"
    }
   ],
   "source": [
    "use Bio::SearchIO;\n",
    "\n",
    "my $in = new Bio::SearchIO(\n",
    "    -format => \"blast\",\n",
    "    -file => \"files/report.bls\");\n",
    "while(my $result = $in->next_result){\n",
    "    while(my $hit = $result->next_hit){\n",
    "        while(my $hsp = $hit->next_hsp){\n",
    "            print \"Query=\", $result->query_name,\n",
    "                \" Hit=\", $hit->name,\n",
    "                \" Length=\", $hsp->length('total'),\n",
    "                \" Percent_id=\", $hsp->percent_identity,\n",
    "                \"\\n\";\n",
    "        }\n",
    "    }\n",
    "}"
   ]
  },
  {
   "cell_type": "code",
   "execution_count": null,
   "metadata": {
    "collapsed": true
   },
   "outputs": [],
   "source": []
  }
 ],
 "metadata": {
  "kernelspec": {
   "display_name": "IPerl 0.006",
   "language": "perl",
   "name": "iperl"
  },
  "language_info": {
   "file_extension": ".pl",
   "mimetype": "text/x-perl",
   "name": "perl",
   "version": "5.16.0"
  }
 },
 "nbformat": 4,
 "nbformat_minor": 0
}
