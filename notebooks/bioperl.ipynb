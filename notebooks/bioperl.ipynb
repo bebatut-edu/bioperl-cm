{
 "cells": [
  {
   "cell_type": "markdown",
   "metadata": {},
   "source": [
    "# BioPerl\n",
    "\n",
    "## Manipulation de séquences\n",
    "\n",
    "### Création d'un objet"
   ]
  },
  {
   "cell_type": "code",
   "execution_count": 24,
   "metadata": {
    "collapsed": false
   },
   "outputs": [
    {
     "name": "stderr",
     "output_type": "stream",
     "text": [
      "Bio::Seq=HASH(0x7fd623b5e2c0)\n"
     ]
    }
   ],
   "source": [
    "use Bio::Seq;\n",
    "my $seqobj = Bio::Seq->new(\n",
    "    -seq => \"ACTGTGTGTCC\",\n",
    "    -id => \"Chlorella sorokiniana\",\n",
    "    -accession_number => \"CAA41635\"\n",
    ");"
   ]
  },
  {
   "cell_type": "markdown",
   "metadata": {},
   "source": [
    "### Méthodes\n",
    "\n",
    "#### Manipulation de séquences"
   ]
  },
  {
   "cell_type": "code",
   "execution_count": 25,
   "metadata": {
    "collapsed": false
   },
   "outputs": [
    {
     "data": {
      "text/plain": [
       "ACTGTGTGTCC\n"
      ]
     },
     "execution_count": 25,
     "metadata": {},
     "output_type": "execute_result"
    },
    {
     "name": "stderr",
     "output_type": "stream",
     "text": [
      "1\n"
     ]
    }
   ],
   "source": [
    "$seq = $seqobj->seq();\n",
    "print \"$seq\\n\";"
   ]
  },
  {
   "cell_type": "code",
   "execution_count": 26,
   "metadata": {
    "collapsed": false
   },
   "outputs": [
    {
     "data": {
      "text/plain": [
       "11\n"
      ]
     },
     "execution_count": 26,
     "metadata": {},
     "output_type": "execute_result"
    },
    {
     "name": "stderr",
     "output_type": "stream",
     "text": [
      "1\n"
     ]
    }
   ],
   "source": [
    "$length = $seqobj->length();\n",
    "print \"$length\\n\";"
   ]
  },
  {
   "cell_type": "code",
   "execution_count": 27,
   "metadata": {
    "collapsed": false
   },
   "outputs": [
    {
     "data": {
      "text/plain": [
       "TGTGTCC\n"
      ]
     },
     "execution_count": 27,
     "metadata": {},
     "output_type": "execute_result"
    },
    {
     "name": "stderr",
     "output_type": "stream",
     "text": [
      "1\n"
     ]
    }
   ],
   "source": [
    "$subseq = $seqobj->subseq(int($length/2), $length);\n",
    "print \"$subseq\\n\";"
   ]
  },
  {
   "cell_type": "code",
   "execution_count": 28,
   "metadata": {
    "collapsed": false
   },
   "outputs": [
    {
     "data": {
      "text/plain": [
       "ACTGTGTGTCCTGTGTCC 18\n"
      ]
     },
     "execution_count": 28,
     "metadata": {},
     "output_type": "execute_result"
    },
    {
     "name": "stderr",
     "output_type": "stream",
     "text": [
      "1\n"
     ]
    }
   ],
   "source": [
    "$new_seq = $seq.$subseq;\n",
    "if($seqobj->validate_seq($new_seq)){\n",
    "    $seqobj->seq($new_seq);\n",
    "}\n",
    "print $seqobj->seq(),\" \", $seqobj->length(), \"\\n\""
   ]
  },
  {
   "cell_type": "markdown",
   "metadata": {},
   "source": [
    "#### Traduction "
   ]
  },
  {
   "cell_type": "code",
   "execution_count": 41,
   "metadata": {
    "collapsed": false
   },
   "outputs": [
    {
     "data": {
      "text/plain": [
       "TVCPVS\n"
      ]
     },
     "execution_count": 41,
     "metadata": {},
     "output_type": "execute_result"
    },
    {
     "name": "stderr",
     "output_type": "stream",
     "text": [
      "1\n"
     ]
    }
   ],
   "source": [
    "$translated_obj = $seq;\n",
    "if( $seqobj->alphabet() == 'dna'){\n",
    "    $translated_obj = $seqobj->translate();\n",
    "}\n",
    "print $translated_obj->seq(),\"\\n\";"
   ]
  },
  {
   "cell_type": "markdown",
   "metadata": {
    "collapsed": true
   },
   "source": [
    "## Manipulation de fichier de séquences\n",
    "### Ecrire des séquences dans un fichier"
   ]
  },
  {
   "cell_type": "code",
   "execution_count": 2,
   "metadata": {
    "collapsed": false
   },
   "outputs": [
    {
     "name": "stderr",
     "output_type": "stream",
     "text": [
      "1\n"
     ]
    },
    {
     "ename": "Warning",
     "evalue": "\n--------------------- WARNING ---------------------\nMSG: No whitespace allowed in FASTA ID [Chlorella sorokiniana]\n---------------------------------------------------\n\n\n--------------------- WARNING ---------------------\nMSG: No whitespace allowed in FASTA ID [Chlorella sorokiniana]\n---------------------------------------------------\n\n\n--------------------- WARNING ---------------------\nMSG: No whitespace allowed in FASTA ID [Modified Chlorella sorokiniana]\n---------------------------------------------------\n\n\n--------------------- WARNING ---------------------\nMSG: No whitespace allowed in FASTA ID [Modified Chlorella sorokiniana]\n---------------------------------------------------\n",
     "output_type": "error",
     "traceback": [
      "\n--------------------- WARNING ---------------------\nMSG: No whitespace allowed in FASTA ID [Chlorella sorokiniana]\n---------------------------------------------------\n\n\n--------------------- WARNING ---------------------\nMSG: No whitespace allowed in FASTA ID [Chlorella sorokiniana]\n---------------------------------------------------\n\n\n--------------------- WARNING ---------------------\nMSG: No whitespace allowed in FASTA ID [Modified Chlorella sorokiniana]\n---------------------------------------------------\n\n\n--------------------- WARNING ---------------------\nMSG: No whitespace allowed in FASTA ID [Modified Chlorella sorokiniana]\n---------------------------------------------------\n"
     ]
    }
   ],
   "source": [
    "use Bio::SeqIO;\n",
    "use Bio::Seq;\n",
    "\n",
    "my $seqio_obj = Bio::SeqIO->new(-file => '>sequence.fasta', \n",
    "    -format => 'fasta' );\n",
    "\n",
    "my $seqobj = Bio::Seq->new(\n",
    "    -seq => \"ACTGTGTGTCC\",\n",
    "    -id => \"Chlorella sorokiniana\"\n",
    ");\n",
    "\n",
    "$seqio_obj->write_seq($seqobj);\n",
    "\n",
    "my $seqobj = Bio::Seq->new(\n",
    "    -seq => \"ACTGTGTGTCCTGTGTCC\",\n",
    "    -id => \"Modified Chlorella sorokiniana\"\n",
    ");\n",
    "\n",
    "$seqio_obj->write_seq($seqobj);"
   ]
  },
  {
   "cell_type": "markdown",
   "metadata": {},
   "source": [
    "### Lecture de séquences d'un fichier"
   ]
  },
  {
   "cell_type": "code",
   "execution_count": 3,
   "metadata": {
    "collapsed": false
   },
   "outputs": [
    {
     "data": {
      "text/plain": [
       "ACTGTGTGTCC\n",
       "ACTGTGTGTCCTGTGTCC\n"
      ]
     },
     "execution_count": 3,
     "metadata": {},
     "output_type": "execute_result"
    }
   ],
   "source": [
    "use Bio::SeqIO;\n",
    "\n",
    "$seqio_obj = Bio::SeqIO->new(-file => \"sequence.fasta\", \n",
    "    -format => \"fasta\" );\n",
    "    \n",
    "while ($seq_obj = $seqio_obj->next_seq){\n",
    "    print $seq_obj->seq,\"\\n\";\n",
    "}"
   ]
  },
  {
   "cell_type": "markdown",
   "metadata": {},
   "source": [
    "## Accès aux bases de données\n",
    "### Récupération d'une séquence dans une base de données"
   ]
  },
  {
   "cell_type": "code",
   "execution_count": 6,
   "metadata": {
    "collapsed": false
   },
   "outputs": [
    {
     "data": {
      "text/plain": [
       "A00002\n"
      ]
     },
     "execution_count": 6,
     "metadata": {},
     "output_type": "execute_result"
    },
    {
     "name": "stderr",
     "output_type": "stream",
     "text": [
      "1\n"
     ]
    }
   ],
   "source": [
    "use Bio::DB::GenBank;\n",
    "use Bio::Seq;\n",
    "\n",
    "$db_obj = Bio::DB::GenBank->new;\n",
    " \n",
    "$seq_obj = $db_obj->get_Seq_by_id(2);\n",
    "\n",
    "print $seq_obj->display_id(),\"\\n\";"
   ]
  },
  {
   "cell_type": "markdown",
   "metadata": {},
   "source": [
    "### Récupération de plusieurs séquences"
   ]
  },
  {
   "cell_type": "code",
   "execution_count": 8,
   "metadata": {
    "collapsed": false
   },
   "outputs": [
    {
     "data": {
      "text/plain": [
       "NM_001203615\t2099\n",
       "NM_001125591\t549\n",
       "NM_128760\t2775\n",
       "NM_120360\t1655\n",
       "NM_001036386\t2734\n",
       "NM_112969\t2212\n",
       "NM_126949\t704\n",
       "ATHTOP2A\t410\n",
       "XM_002881164\t2698\n",
       "AF323679\t1373\n",
       "DQ446392\t1152\n",
       "AY142667\t2140\n",
       "AY133820\t2113\n",
       "AY090993\t1830\n",
       "AY080864\t928\n",
       "AY039947\t2493\n",
       "AY034972\t2586\n",
       "U12285\t591\n",
       "U12284\t590\n",
       "AK221851\t1078\n",
       "AK221766\t1452\n",
       "AK221174\t2785\n",
       "AJ297843\t2212\n",
       "AJ297842\t1655\n",
       "AJ251990\t1655\n",
       "AJ251989\t1640\n",
       "AK175923\t2744\n",
       "AK175789\t2744\n"
      ]
     },
     "execution_count": 8,
     "metadata": {},
     "output_type": "execute_result"
    }
   ],
   "source": [
    "use Bio::DB::GenBank;\n",
    "use Bio::DB::Query::GenBank;\n",
    " \n",
    "$query = \"Arabidopsis[ORGN] AND topoisomerase[TITL] and 0:3000[SLEN]\";\n",
    "$query_obj = Bio::DB::Query::GenBank->new(-db    => 'nucleotide',  -query => $query );\n",
    " \n",
    "$gb_obj = Bio::DB::GenBank->new;\n",
    " \n",
    "$stream_obj = $gb_obj->get_Stream_by_query($query_obj);\n",
    " \n",
    "while ($seq_obj = $stream_obj->next_seq) {     \n",
    "    print $seq_obj->display_id, \"\\t\", $seq_obj->length, \"\\n\";\n",
    "}"
   ]
  },
  {
   "cell_type": "markdown",
   "metadata": {},
   "source": [
    "## Parser des rapports de recherche\n",
    "### Parcours d'un fichier issu d'une requête Blast"
   ]
  },
  {
   "cell_type": "code",
   "execution_count": null,
   "metadata": {
    "collapsed": true
   },
   "outputs": [],
   "source": [
    "use Bio::SearchIO;\n",
    "\n",
    "my $in = new Bio::SearchIO(\n",
    "    -format => \"blast\",\n",
    "    -file => \"report.bls\");\n",
    "while(my $result = $in->next_result){\n",
    "    while(my $hit = $result->next_hit){\n",
    "        while(my $hsp = $hit->next_hsp){\n",
    "            print \"Query=\", $result->query_name,\n",
    "                \" Hit=\", $hit->name,\n",
    "                \" Length=\", $hsp->length('total'),\n",
    "                \" Percent_id=\", $hsp->percent_identity,\n",
    "                \"\\n\";\n",
    "        }\n",
    "    }\n",
    "}"
   ]
  }
 ],
 "metadata": {
  "kernelspec": {
   "display_name": "IPerl 0.006",
   "language": "perl",
   "name": "iperl"
  },
  "language_info": {
   "file_extension": ".pl",
   "mimetype": "text/x-perl",
   "name": "perl",
   "version": "5.16.0"
  }
 },
 "nbformat": 4,
 "nbformat_minor": 0
}
