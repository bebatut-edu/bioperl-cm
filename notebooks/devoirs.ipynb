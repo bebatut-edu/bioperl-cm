{
 "cells": [
  {
   "cell_type": "markdown",
   "metadata": {},
   "source": [
    "# Devoirs\n",
    "\n",
    "Ce Notebook contient une série de questions que vous devez faire. Le Notebook permet de combiner du texte et du code, mais aussi des images, ... \n",
    "\n",
    "Dans ce Notebook, vous avez une série de questions à faire chez vous. Suivez les instructions pour remplir le Notebook et envoyez moi le résultat par mail à l'adresse: berenice.batut@udamail.fr.\n",
    "\n",
    "Pour remplir le Notebook, vous aurez besoin de quelques connaissance en Markdown, qui est un langage ayant une syntaxe facile à lire et à écrire. Lisez cette [Cheat Sheet](https://github.com/adam-p/markdown-here/wiki/Markdown-Cheatsheet) pour vous en rendre compte...\n",
    "\n",
    "\n",
    "## Installation et lancement du Notebook\n",
    "\n",
    "### Installation\n",
    "\n",
    "Le Notebook est basé sur [Jupyter](http://jupyter.readthedocs.org/en/latest/install.html) et utilise un kernel [IPerl]() pour interpréter les commandes en Perl.\n",
    "\n",
    "#### Jupyter\n",
    "\n",
    "Jupyter est développé en Python. Il est plus facile de l'installer en utilisant `pip`, un gestionnaire de paquet en Python.\n",
    "\n",
    "Pour installer `pip` sur Debian (ubuntu, ...) :\n",
    "\n",
    "```\n",
    "$ sudo apt-get update\n",
    "$ sudo apt-get install python-pip build-essential python-dev\n",
    "```\n",
    "\n",
    "Pour installer `pip` sur RHEL (Fedora, ...) :\n",
    "        \n",
    "```\n",
    "$ sudo yum update\n",
    "$ sudo yum install python-pip\n",
    "$ sudo yum groupinstall 'Development Tools'\n",
    "$ sudo yum install python-devel\n",
    "```\n",
    "\n",
    "Pour installer `pip` sur MacOSX :\n",
    "        \n",
    "```\n",
    "$ brew update \n",
    "$ brew install python\n",
    "```\n",
    "\n",
    "Une fois `pip` installer, Jupyter s'installe avec :\n",
    "    \n",
    "```\n",
    "$ pip install jupyter\n",
    "```\n",
    "\n",
    "#### IPerl\n",
    "\n",
    "IPerl est un kernel permettant d'interpréter les commandes Perl dans un Notebook Jupyter, basé sur Python. IPerl est facilement installable en utilisant le gestionnaire de paquet `cpanm`. \n",
    "\n",
    "```\n",
    "$ sudo cpanm install Devel::IPerl\n",
    "```\n",
    "\n",
    "### Lancement du Notebook\n",
    "\n",
    "Une fois Jupyter et IPerl installés, le Notebook peut être lancé avec :\n",
    "\n",
    "```\n",
    "$ jupyter notebook\n",
    "```\n",
    "\n",
    "Une fenêtre va s'ouvrir dans votre navigateur à l'adresse [http://localhost:8888/notebooks/](http://localhost:8888/notebooks/).\n",
    "\n",
    "Il faut être dans le répertoire contenant les Notebooks qu'on souhaite pour les visualiser, les travailler, les enregistrer, ...\n",
    "\n",
    "\n",
    "## Rappels\n",
    "\n",
    "### Représentation des données\n",
    "\n",
    "#### Données simples"
   ]
  },
  {
   "cell_type": "code",
   "execution_count": null,
   "metadata": {
    "collapsed": true
   },
   "outputs": [],
   "source": [
    "$chaine = \"chaine_split\";"
   ]
  },
  {
   "cell_type": "markdown",
   "metadata": {},
   "source": [
    "On souhaite récupérer la chaine de caractères comprise entre le début de `$chaine` et le `:`. Pour cela, compléter le code suivant:"
   ]
  },
  {
   "cell_type": "code",
   "execution_count": 1,
   "metadata": {
    "collapsed": true
   },
   "outputs": [],
   "source": [
    "$index = index();\n",
    "$sous_chaine = substring();\n",
    "print $sous_chaine;"
   ]
  },
  {
   "cell_type": "markdown",
   "metadata": {},
   "source": [
    "Pour évaluer si le code est correct, cliquer sur le symbole \"Lecture\"."
   ]
  },
  {
   "cell_type": "markdown",
   "metadata": {},
   "source": [
    "#### Tableaux"
   ]
  },
  {
   "cell_type": "code",
   "execution_count": 17,
   "metadata": {
    "collapsed": false
   },
   "outputs": [
    {
     "name": "stderr",
     "output_type": "stream",
     "text": [
      "Celaestbienplusfacileàfairenon?\n"
     ]
    }
   ],
   "source": [
    "@t = qw(Cela est bien plus facile à faire non ?);"
   ]
  },
  {
   "cell_type": "markdown",
   "metadata": {},
   "source": [
    "`qw` découpe la chaine selon les espaces :"
   ]
  },
  {
   "cell_type": "code",
   "execution_count": 18,
   "metadata": {
    "collapsed": false
   },
   "outputs": [
    {
     "data": {
      "text/plain": [
       "est"
      ]
     },
     "execution_count": 18,
     "metadata": {},
     "output_type": "execute_result"
    },
    {
     "name": "stderr",
     "output_type": "stream",
     "text": [
      "1\n"
     ]
    }
   ],
   "source": [
    "print $t[1];"
   ]
  },
  {
   "cell_type": "code",
   "execution_count": 13,
   "metadata": {
    "collapsed": false
   },
   "outputs": [
    {
     "name": "stderr",
     "output_type": "stream",
     "text": [
      "Celasestsbiensplussfacilesàsfairesnons?s\n"
     ]
    }
   ],
   "source": [
    "@s = map({ $_.\"s\" } @t );"
   ]
  },
  {
   "cell_type": "markdown",
   "metadata": {},
   "source": [
    "`map` applique un boucle d'instruction à tous les éléments d'un tableau :"
   ]
  },
  {
   "cell_type": "code",
   "execution_count": 19,
   "metadata": {
    "collapsed": false
   },
   "outputs": [
    {
     "data": {
      "text/plain": [
       "ests"
      ]
     },
     "execution_count": 19,
     "metadata": {},
     "output_type": "execute_result"
    },
    {
     "name": "stderr",
     "output_type": "stream",
     "text": [
      "1\n"
     ]
    }
   ],
   "source": [
    "print $s[1];"
   ]
  },
  {
   "cell_type": "markdown",
   "metadata": {},
   "source": [
    "`uc` passe en majuscule une chaîne de caractères : "
   ]
  },
  {
   "cell_type": "code",
   "execution_count": 20,
   "metadata": {
    "collapsed": false
   },
   "outputs": [
    {
     "data": {
      "text/plain": [
       "CHAINE"
      ]
     },
     "execution_count": 20,
     "metadata": {},
     "output_type": "execute_result"
    },
    {
     "name": "stderr",
     "output_type": "stream",
     "text": [
      "1\n"
     ]
    }
   ],
   "source": [
    "print uc(\"chaine\");"
   ]
  },
  {
   "cell_type": "markdown",
   "metadata": {},
   "source": [
    "Mettre en majuscule tous les élèments de `@t` avec la fonction `map` et `cu` "
   ]
  },
  {
   "cell_type": "code",
   "execution_count": null,
   "metadata": {
    "collapsed": true
   },
   "outputs": [],
   "source": [
    "# Ecrire le code"
   ]
  },
  {
   "cell_type": "markdown",
   "metadata": {},
   "source": [
    "#### Tableaux associatifs\n",
    "\n",
    "Une tranche de tableau est un sous-ensemble des éléments du tableau."
   ]
  },
  {
   "cell_type": "code",
   "execution_count": 23,
   "metadata": {
    "collapsed": false
   },
   "outputs": [
    {
     "name": "stderr",
     "output_type": "stream",
     "text": [
      "12345678\n"
     ]
    }
   ],
   "source": [
    "@t = (1,2,3,4,5,6,7,8);"
   ]
  },
  {
   "cell_type": "markdown",
   "metadata": {},
   "source": [
    "Pour obtenir un nouveau tableau avec 3e et 5e éléments :"
   ]
  },
  {
   "cell_type": "code",
   "execution_count": 26,
   "metadata": {
    "collapsed": false
   },
   "outputs": [
    {
     "data": {
      "text/plain": [
       "3 5"
      ]
     },
     "execution_count": 26,
     "metadata": {},
     "output_type": "execute_result"
    },
    {
     "name": "stderr",
     "output_type": "stream",
     "text": [
      "1\n"
     ]
    }
   ],
   "source": [
    "@s = ($t[2],$t[4]);\n",
    "print @s[0], \" \", $s[1];"
   ]
  },
  {
   "cell_type": "markdown",
   "metadata": {},
   "source": [
    "Les tranches de tableau permettent de faire ça plus rapidement :"
   ]
  },
  {
   "cell_type": "code",
   "execution_count": 27,
   "metadata": {
    "collapsed": false
   },
   "outputs": [
    {
     "data": {
      "text/plain": [
       "3 5"
      ]
     },
     "execution_count": 27,
     "metadata": {},
     "output_type": "execute_result"
    },
    {
     "name": "stderr",
     "output_type": "stream",
     "text": [
      "1\n"
     ]
    }
   ],
   "source": [
    "@r = @t[2,4];\n",
    "print @r[0], \" \", $r[1];"
   ]
  },
  {
   "cell_type": "markdown",
   "metadata": {},
   "source": [
    "Elles permettent aussi de modifier le contenu du tableau initial : "
   ]
  },
  {
   "cell_type": "code",
   "execution_count": 28,
   "metadata": {
    "collapsed": false
   },
   "outputs": [
    {
     "data": {
      "text/plain": [
       "m n"
      ]
     },
     "execution_count": 28,
     "metadata": {},
     "output_type": "execute_result"
    },
    {
     "name": "stderr",
     "output_type": "stream",
     "text": [
      "1\n"
     ]
    }
   ],
   "source": [
    "@t[2,4] = (\"m\",\"n\");\n",
    "print $t[2], \" \", $t[4];"
   ]
  },
  {
   "cell_type": "markdown",
   "metadata": {},
   "source": [
    "Il existe aussi des tranches pour les tableaux associatifs avec une sélection sur les clefs. La sélection des clefs se fait aussi dans une tableau."
   ]
  },
  {
   "cell_type": "code",
   "execution_count": 46,
   "metadata": {
    "collapsed": false
   },
   "outputs": [
    {
     "name": "stderr",
     "output_type": "stream",
     "text": [
      "cle1valeur1cle2valeur2cle3valeur3cle4valeur4cle5valeur5\n"
     ]
    }
   ],
   "source": [
    "%h = (\"cle1\" => \"valeur1\", \"cle2\" => \"valeur2\", \"cle3\" => \"valeur3\", \"cle4\" => \"valeur4\", \"cle5\" => \"valeur5\");"
   ]
  },
  {
   "cell_type": "markdown",
   "metadata": {},
   "source": [
    "Après avoir inverser le tableau associatif (les clés devenant les valeurs et les valeurs les clés), mettre les valeurs des clés `valeur3`, `valeur4`, `valeur2` à `0`."
   ]
  },
  {
   "cell_type": "markdown",
   "metadata": {},
   "source": [
    "Pour ajouter du code, appuyez sur le symbole \"+\"."
   ]
  },
  {
   "cell_type": "markdown",
   "metadata": {},
   "source": [
    "### Structures de contrôle"
   ]
  },
  {
   "cell_type": "markdown",
   "metadata": {},
   "source": [
    "Pour ajouter du texte en Markdown, appuyez sur le symbole \"+\" et changer \"Code\" en \"Markdown\". Ensuite, appuyez sur le symbole \"Lecture\" pour visualiser."
   ]
  },
  {
   "cell_type": "code",
   "execution_count": null,
   "metadata": {
    "collapsed": true
   },
   "outputs": [],
   "source": []
  },
  {
   "cell_type": "markdown",
   "metadata": {},
   "source": [
    "### Manipulation de fichiers"
   ]
  },
  {
   "cell_type": "markdown",
   "metadata": {},
   "source": [
    "### Expressions régulières"
   ]
  },
  {
   "cell_type": "markdown",
   "metadata": {},
   "source": [
    "Regarder les [slides](http://slides.seld.be/?file=2015-11-24+How+I+learned+to+stop+worrying+and+love+Regular+Expressions.html#1)"
   ]
  },
  {
   "cell_type": "markdown",
   "metadata": {},
   "source": [
    "### Fonctions"
   ]
  },
  {
   "cell_type": "markdown",
   "metadata": {},
   "source": [
    "## Références"
   ]
  },
  {
   "cell_type": "markdown",
   "metadata": {},
   "source": [
    "## Modules"
   ]
  },
  {
   "cell_type": "markdown",
   "metadata": {},
   "source": [
    "## Programmation orientée objet"
   ]
  },
  {
   "cell_type": "code",
   "execution_count": null,
   "metadata": {
    "collapsed": true
   },
   "outputs": [],
   "source": []
  }
 ],
 "metadata": {
  "kernelspec": {
   "display_name": "IPerl 0.006",
   "language": "perl",
   "name": "iperl"
  },
  "language_info": {
   "file_extension": ".pl",
   "mimetype": "text/x-perl",
   "name": "perl",
   "version": "5.16.0"
  }
 },
 "nbformat": 4,
 "nbformat_minor": 0
}
