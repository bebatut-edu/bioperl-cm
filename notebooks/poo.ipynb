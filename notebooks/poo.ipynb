{
 "cells": [
  {
   "cell_type": "markdown",
   "metadata": {},
   "source": [
    "# Programmation orientée objet en Perl\n",
    "\n",
    "## Références\n",
    "\n",
    "### Références sur les scalaires\n",
    "\n",
    "#### Principe"
   ]
  },
  {
   "cell_type": "code",
   "execution_count": 1,
   "metadata": {
    "collapsed": false
   },
   "outputs": [
    {
     "name": "stderr",
     "output_type": "stream",
     "text": [
      "SCALAR(0x7fcf70006480)\n"
     ]
    }
   ],
   "source": [
    "my $v = 10;\n",
    "my $refv = \\$v;"
   ]
  },
  {
   "cell_type": "code",
   "execution_count": 2,
   "metadata": {
    "collapsed": false
   },
   "outputs": [
    {
     "data": {
      "text/plain": [
       "SCALAR(0x7fcf70006480)\n"
      ]
     },
     "execution_count": 2,
     "metadata": {},
     "output_type": "execute_result"
    },
    {
     "name": "stderr",
     "output_type": "stream",
     "text": [
      "1\n"
     ]
    }
   ],
   "source": [
    "print \"$refv\\n\";"
   ]
  },
  {
   "cell_type": "code",
   "execution_count": 3,
   "metadata": {
    "collapsed": false
   },
   "outputs": [
    {
     "data": {
      "text/plain": [
       "10\n"
      ]
     },
     "execution_count": 3,
     "metadata": {},
     "output_type": "execute_result"
    },
    {
     "name": "stderr",
     "output_type": "stream",
     "text": [
      "1\n"
     ]
    }
   ],
   "source": [
    "print \"$$refv\\n\";"
   ]
  },
  {
   "cell_type": "code",
   "execution_count": 4,
   "metadata": {
    "collapsed": false
   },
   "outputs": [
    {
     "data": {
      "text/plain": [
       "56\n",
       "56\n"
      ]
     },
     "execution_count": 4,
     "metadata": {},
     "output_type": "execute_result"
    },
    {
     "name": "stderr",
     "output_type": "stream",
     "text": [
      "1\n"
     ]
    }
   ],
   "source": [
    "$$refv = 56;\n",
    "print \"$$refv\\n\";\n",
    "print \"$v\\n\";"
   ]
  },
  {
   "cell_type": "markdown",
   "metadata": {},
   "source": [
    "#### Utilisation"
   ]
  },
  {
   "cell_type": "code",
   "execution_count": 9,
   "metadata": {
    "collapsed": false
   },
   "outputs": [
    {
     "data": {
      "text/plain": [
       "30\n",
       "40\n"
      ]
     },
     "execution_count": 9,
     "metadata": {},
     "output_type": "execute_result"
    },
    {
     "name": "stderr",
     "output_type": "stream",
     "text": [
      "1\n"
     ]
    }
   ],
   "source": [
    "sub f1{\n",
    "    my ($ref) = @_;\n",
    "    $$ref = $$ref + 10;\n",
    "}\n",
    "my $v = 20;\n",
    "my $refv = \\$v;\n",
    "f1( $refv );\n",
    "print \"$v\\n\";\n",
    "f1 ( \\$v );\n",
    "print \"$v\\n\";"
   ]
  },
  {
   "cell_type": "code",
   "execution_count": 10,
   "metadata": {
    "collapsed": false
   },
   "outputs": [
    {
     "data": {
      "text/plain": [
       "20\n"
      ]
     },
     "execution_count": 10,
     "metadata": {},
     "output_type": "execute_result"
    },
    {
     "name": "stderr",
     "output_type": "stream",
     "text": [
      "1\n"
     ]
    }
   ],
   "source": [
    "sub f2{\n",
    "    my $v = 20;\n",
    "    return \\$v;\n",
    "}\n",
    "my $ref = f2();\n",
    "print \"$$ref\\n\";"
   ]
  },
  {
   "cell_type": "markdown",
   "metadata": {},
   "source": [
    "#### QCM"
   ]
  },
  {
   "cell_type": "code",
   "execution_count": 18,
   "metadata": {
    "collapsed": false
   },
   "outputs": [
    {
     "data": {
      "text/plain": [
       "50\n"
      ]
     },
     "execution_count": 18,
     "metadata": {},
     "output_type": "execute_result"
    },
    {
     "name": "stderr",
     "output_type": "stream",
     "text": [
      "1\n"
     ]
    }
   ],
   "source": [
    "sub f{\n",
    "    my ($x,$y) = @_;\n",
    "    $$x = 30;\n",
    "    $z = $y+10;\n",
    "    return (\\$z); \n",
    "}\n",
    "my $v = 10;\n",
    "my $w = 20;\n",
    "my $x = f(\\$v,$w);\n",
    "my $y = $$x + $v;\n",
    "print \"$y\\n\";"
   ]
  },
  {
   "cell_type": "markdown",
   "metadata": {},
   "source": [
    "Explication des différentes réponses possibles pour le MCQ\n",
    "\n",
    "- `30` : pas de prise en compte du changement de `$v` et de `$w` par la fonction\n",
    "- `40` : pas de prise en compte du changement de `$v` par la fonction\n",
    "- `50` : pas de prise en compte du changement de `$w` dans la fonction\n",
    "- `60` : réponse correcte"
   ]
  },
  {
   "cell_type": "markdown",
   "metadata": {},
   "source": [
    "### Références sur les tableaux\n",
    "\n",
    "#### Principe"
   ]
  },
  {
   "cell_type": "code",
   "execution_count": 21,
   "metadata": {
    "collapsed": false
   },
   "outputs": [
    {
     "data": {
      "text/plain": [
       "10\n",
       "10\n"
      ]
     },
     "execution_count": 21,
     "metadata": {},
     "output_type": "execute_result"
    },
    {
     "name": "stderr",
     "output_type": "stream",
     "text": [
      "1\n"
     ]
    }
   ],
   "source": [
    "my @tab = (\"ab\",10);\n",
    "my $reft = \\@tab;\n",
    "my @tab2 = @$reft;\n",
    "print \"$tab2[1]\\n\";\n",
    "print \"$$reft[1]\\n\";"
   ]
  },
  {
   "cell_type": "code",
   "execution_count": 22,
   "metadata": {
    "collapsed": false
   },
   "outputs": [
    {
     "data": {
      "text/plain": [
       "bc,11\n"
      ]
     },
     "execution_count": 22,
     "metadata": {},
     "output_type": "execute_result"
    },
    {
     "name": "stderr",
     "output_type": "stream",
     "text": [
      "1\n"
     ]
    }
   ],
   "source": [
    "@$reft = (\"bc\",11);\n",
    "print \"$tab[0],$tab[1]\\n\";"
   ]
  },
  {
   "cell_type": "code",
   "execution_count": 23,
   "metadata": {
    "collapsed": false
   },
   "outputs": [
    {
     "data": {
      "text/plain": [
       "12\n"
      ]
     },
     "execution_count": 23,
     "metadata": {},
     "output_type": "execute_result"
    },
    {
     "name": "stderr",
     "output_type": "stream",
     "text": [
      "1\n"
     ]
    }
   ],
   "source": [
    "$reft->[1] = 12;\n",
    "print \"$tab[1]\\n\";"
   ]
  },
  {
   "cell_type": "markdown",
   "metadata": {},
   "source": [
    "#### Tableaux de tableaux"
   ]
  },
  {
   "cell_type": "code",
   "execution_count": 25,
   "metadata": {
    "collapsed": false
   },
   "outputs": [
    {
     "data": {
      "text/plain": [
       "2\n",
       "ARRAY(0x7fcf70006318)\n",
       "ARRAY(0x7fcf7000cc98)\n",
       "et\n",
       "20\n"
      ]
     },
     "execution_count": 25,
     "metadata": {},
     "output_type": "execute_result"
    }
   ],
   "source": [
    "my @t1 = (\"tutu\", 10);\n",
    "my @t2 = (20, 30);\n",
    "my @t = (2, \\@t2, \\@t1, (\"et\",20));\n",
    "foreach my $e (@t) { print \"$e\\n\"; }"
   ]
  },
  {
   "cell_type": "markdown",
   "metadata": {},
   "source": [
    "#### QCM"
   ]
  },
  {
   "cell_type": "code",
   "execution_count": 27,
   "metadata": {
    "collapsed": false
   },
   "outputs": [
    {
     "name": "stderr",
     "output_type": "stream",
     "text": [
      "20ARRAY(0x7fcf7000cc98)\n"
     ]
    }
   ],
   "source": [
    "my $v = 10;\n",
    "my @t1 = (1,2, \\$v);\n",
    "my @t2 = (20, \\@t1);"
   ]
  },
  {
   "cell_type": "markdown",
   "metadata": {},
   "source": [
    "Explications des différentes réponses possibles du QCM:\n",
    "\n",
    "- `$@$t2[1][2]` : oubli des `{}` pour déférencer des groupes de références\n",
    "- `${$t2[1]->[2]}` : réponse correcte\n",
    "- `${@{$t2[1]}[2]}` : réponse correcte\n",
    "- `$t2[1][2]` : oubli de déréférencer pour accéder à `$v`"
   ]
  },
  {
   "cell_type": "code",
   "execution_count": 38,
   "metadata": {
    "collapsed": false
   },
   "outputs": [
    {
     "data": {
      "text/plain": [
       "10\n"
      ]
     },
     "execution_count": 38,
     "metadata": {},
     "output_type": "execute_result"
    },
    {
     "name": "stderr",
     "output_type": "stream",
     "text": [
      "1\n"
     ]
    }
   ],
   "source": [
    "print \"${$t2[1]->[2]}\\n\";"
   ]
  },
  {
   "cell_type": "code",
   "execution_count": 40,
   "metadata": {
    "collapsed": false
   },
   "outputs": [
    {
     "data": {
      "text/plain": [
       "10\n"
      ]
     },
     "execution_count": 40,
     "metadata": {},
     "output_type": "execute_result"
    },
    {
     "name": "stderr",
     "output_type": "stream",
     "text": [
      "1\n"
     ]
    }
   ],
   "source": [
    "print \"${@{$t2[1]}[2]}\\n\";"
   ]
  },
  {
   "cell_type": "code",
   "execution_count": null,
   "metadata": {
    "collapsed": true
   },
   "outputs": [],
   "source": [
    "print \"$@$t2[1][2]\\n\";"
   ]
  }
 ],
 "metadata": {
  "kernelspec": {
   "display_name": "IPerl 0.006",
   "language": "perl",
   "name": "iperl"
  },
  "language_info": {
   "file_extension": ".pl",
   "mimetype": "text/x-perl",
   "name": "perl",
   "version": "5.16.0"
  }
 },
 "nbformat": 4,
 "nbformat_minor": 0
}
